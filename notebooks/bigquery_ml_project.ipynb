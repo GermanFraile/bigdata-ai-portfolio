{
 "cells": [
  {
   "cell_type": "markdown",
   "id": "b151b1c2-a038-4911-8e52-c6b4cf7ecc97",
   "metadata": {},
   "source": [
    "BigQuery + ML: Predicción de Ventas de Videojuegos\n",
    "\n",
    "Este notebook documenta el uso de **Google BigQuery** para análisis de datos y entrenamiento de un modelo de Machine Learning.\n",
    "\n",
    "Se incluyen capturas.\n",
    "\n",
    "Los datos siguientes tratados en este cuaderno han sido obtenidos de la fuente pública https://www.kaggle.com/datasets/gregorut/videogamesales"
   ]
  },
  {
   "cell_type": "markdown",
   "id": "17737d4f-a7d7-442f-b8ac-2969bd17d8f1",
   "metadata": {},
   "source": [
    "En este análisis se muestran las ventas mundiales agrupadas por género de videojuego. "
   ]
  },
  {
   "cell_type": "markdown",
   "id": "c9dab65c-b88f-4a76-ad7c-fb8548b5b68d",
   "metadata": {},
   "source": [
    "![Ventas globales](../outputs/bigquery/Ventas_globales.png)"
   ]
  },
  {
   "cell_type": "markdown",
   "id": "4baf8c78-80d3-49b7-b1db-234d5d5cb848",
   "metadata": {},
   "source": [
    "En este análisis se filtran los años en los que no se alcanzó un volumen mínimo de ventas. "
   ]
  },
  {
   "cell_type": "markdown",
   "id": "3d303e59-bd2b-47ac-9584-91954a21c626",
   "metadata": {},
   "source": [
    "![Años sin minimo de ventas](../outputs/bigquery/Años_sin_minimo_ventas.png)"
   ]
  },
  {
   "cell_type": "markdown",
   "id": "72aae8a4-542e-4dc2-b38a-d1933c338966",
   "metadata": {},
   "source": [
    "Aquí se entrena un modelo en BigQuery ML para predecir ventas globales (`Global_Sales`).\n",
    "El objetivo es simular un pipeline, en el que a partir de datos históricos se pueda estimar el comportamiento futuro.  "
   ]
  },
  {
   "cell_type": "markdown",
   "id": "adbbc33d-bff3-48f8-981a-5951578c26c3",
   "metadata": {},
   "source": [
    "![Creacion modelo](../outputs/bigquery/Creacion_modelo.png)"
   ]
  },
  {
   "cell_type": "markdown",
   "id": "ce09b5c3-d87a-4584-a9c6-dd7abde609c7",
   "metadata": {},
   "source": [
    "Esta evaluación permite valorar si el modelo es fiable y si puede usarse en contextos reales con seguridad."
   ]
  },
  {
   "cell_type": "markdown",
   "id": "a684f081-5586-4096-b5c6-835d469863eb",
   "metadata": {},
   "source": [
    "![Evaluación modelo](../outputs/bigquery/Evaluacion_modelo.png)"
   ]
  },
  {
   "cell_type": "markdown",
   "id": "becbd5dd-43c4-42b8-b23e-bc627445831c",
   "metadata": {},
   "source": [
    "Finalmente se utiliza el modelo."
   ]
  },
  {
   "cell_type": "markdown",
   "id": "d00fa9b3-8268-4425-99cc-234f97037ec3",
   "metadata": {},
   "source": [
    "![Predecir ventas](../outputs/bigquery/Predecir_ventas.png)"
   ]
  },
  {
   "cell_type": "markdown",
   "id": "7b516d07-567c-4b05-9c93-7b96e6159d91",
   "metadata": {},
   "source": [
    "Mini-proyecto de Bigquery + ML realizado por Germán Fraile."
   ]
  }
 ],
 "metadata": {
  "kernelspec": {
   "display_name": "Python 3 (ipykernel)",
   "language": "python",
   "name": "python3"
  },
  "language_info": {
   "codemirror_mode": {
    "name": "ipython",
    "version": 3
   },
   "file_extension": ".py",
   "mimetype": "text/x-python",
   "name": "python",
   "nbconvert_exporter": "python",
   "pygments_lexer": "ipython3",
   "version": "3.10.18"
  }
 },
 "nbformat": 4,
 "nbformat_minor": 5
}
